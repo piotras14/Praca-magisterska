{
 "cells": [
  {
   "cell_type": "code",
   "execution_count": 10,
   "metadata": {},
   "outputs": [
    {
     "name": "stdout",
     "output_type": "stream",
     "text": [
      "        humidity  air_temp  sun_elev\n",
      "153810  0.924242 -0.113821  0.031544\n",
      "153811  0.930202 -0.102282  0.094770\n",
      "153812  0.910303 -0.046945  0.153569\n",
      "153813  0.835960  0.012064  0.206696\n",
      "153814  0.811313  0.056124  0.253597\n",
      "...          ...       ...       ...\n",
      "162867  0.591212  0.285077  0.220255\n",
      "162868  0.731313  0.262523  0.168788\n",
      "162869  0.806263  0.240231  0.111511\n",
      "162870  0.816061  0.218725  0.049530\n",
      "162871  0.878283  0.148177 -0.016602\n",
      "\n",
      "[9062 rows x 3 columns]\n",
      "153810     41.44\n",
      "153811     82.87\n",
      "153812    124.31\n",
      "153813    230.91\n",
      "153814    255.79\n",
      "           ...  \n",
      "162867    231.50\n",
      "162868    206.48\n",
      "162869    167.26\n",
      "162870    111.51\n",
      "162871     55.75\n",
      "Name: GHI, Length: 9062, dtype: float64\n"
     ]
    }
   ],
   "source": [
    "from sklearn.ensemble import RandomForestRegressor\n",
    "from sklearn.metrics import mean_squared_error, r2_score\n",
    "from sklearn.model_selection import train_test_split\n",
    "from sklearn import preprocessing\n",
    "import numpy as np\n",
    "import pandas as pd\n",
    "import matplotlib.pyplot as plt\n",
    "\n",
    "# pd.options.mode.chained_assignment = None\n",
    "\n",
    "# Załaduj swoje dane\n",
    "file_path = \"E:/Studia/Praca dyplomowa/kod/Ostateczna_baza_danych.csv\"\n",
    "data = pd.read_csv(file_path)\n",
    "\n",
    "# Konwersja kolumny timestamp na format daty\n",
    "data['timestamp'] = pd.to_datetime(data['timestamp'])\n",
    "\n",
    "# Filtruj dane na podstawie daty\n",
    "train_data = data[data['timestamp'] < pd.to_datetime('2019-01-01')]\n",
    "test_data = data.loc[data['timestamp'] >= pd.to_datetime('2019-01-01')]\n",
    "\n",
    "# Normalizacja danych\n",
    "\n",
    "train_data['humidity'] = preprocessing.normalize(train_data[['humidity']], norm='max', axis=0)\n",
    "train_data['air_temp'] = preprocessing.normalize(train_data[['air_temp']], norm='max', axis=0)\n",
    "train_data['sun_elev'] = preprocessing.normalize(train_data[['sun_elev']], norm='max', axis=0)\n",
    "test_data['humidity'] = preprocessing.normalize(test_data[['humidity']], norm='max', axis=0)\n",
    "test_data['air_temp'] = preprocessing.normalize(test_data[['air_temp']], norm='max', axis=0)\n",
    "test_data['sun_elev'] = preprocessing.normalize(test_data[['sun_elev']], norm='max', axis=0)\n",
    "\n",
    "# Podział danych na cechy (X) i etykietę (y)\n",
    "X_train_full = train_data[['humidity', 'air_temp', 'sun_elev']]\n",
    "y_train_full = train_data['GHI']\n",
    "X_test = test_data[['humidity', 'air_temp', 'sun_elev']]\n",
    "y_test = test_data['GHI']\n",
    "\n",
    "print(X_train_full)\n",
    "print(y_train_full)\n",
    "print(X_test)\n",
    "print(y_test)"
   ]
  }
 ],
 "metadata": {
  "kernelspec": {
   "display_name": "Python 3",
   "language": "python",
   "name": "python3"
  },
  "language_info": {
   "codemirror_mode": {
    "name": "ipython",
    "version": 3
   },
   "file_extension": ".py",
   "mimetype": "text/x-python",
   "name": "python",
   "nbconvert_exporter": "python",
   "pygments_lexer": "ipython3",
   "version": "3.10.11"
  }
 },
 "nbformat": 4,
 "nbformat_minor": 2
}
